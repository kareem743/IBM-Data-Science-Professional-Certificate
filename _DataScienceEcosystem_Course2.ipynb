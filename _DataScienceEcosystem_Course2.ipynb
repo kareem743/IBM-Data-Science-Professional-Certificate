{
 "cells": [
  {
   "cell_type": "markdown",
   "id": "1cecdde5-ec22-4b25-87e7-c482511484da",
   "metadata": {},
   "source": [
    "# Data Science Tools and Ecosystem"
   ]
  },
  {
   "cell_type": "markdown",
   "id": "b603d532-4f8b-446a-a53e-bbee0daab908",
   "metadata": {},
   "source": [
    "In this notebook, Data Science Tools and Ecosystem are summarized."
   ]
  },
  {
   "cell_type": "markdown",
   "id": "b81586ce-9f2c-42a9-bbe7-55e846841cf0",
   "metadata": {},
   "source": [
    "**Objectives:**\n",
    "\n",
    "- List popular languages for Data Science\n",
    "- Describe the tools and ecosystem of Data Science\n",
    "- Convert minutes to hours using Python\n",
    "- Create tables and headings in Markdown\n",
    "- Understand the basics of Jupyter Notebooks"
   ]
  },
  {
   "cell_type": "markdown",
   "id": "628d97f4-ae10-4b94-ba92-321462cd5f92",
   "metadata": {},
   "source": [
    "Some of the popular languages that Data Scientists use are:\n",
    "\n",
    "---\n",
    "\n",
    "1. python\n",
    "2. R\n",
    "3. Java"
   ]
  },
  {
   "cell_type": "markdown",
   "id": "6bc290cb-dae0-4e82-922a-e58045d29f63",
   "metadata": {},
   "source": [
    "Some of the commonly used libraries used by Data Scientists include:\n",
    "\n",
    "---\n",
    "\n",
    "1. pandas\n",
    "2. numpy\n",
    "3. matplotlib"
   ]
  },
  {
   "cell_type": "markdown",
   "id": "1777ddf9-e7fd-4365-9908-a0a97e126aa5",
   "metadata": {},
   "source": [
    "| Data Science Tools|\n",
    "|----------------- |\n",
    "| Jupyter Notebook |\n",
    "| RStudio|\n",
    "| Github |"
   ]
  },
  {
   "cell_type": "markdown",
   "id": "38e27500-98d7-4ddd-800a-9d8688fc8a6e",
   "metadata": {},
   "source": [
    "### Below are a few examples of evaluating arithmetic expressions in Python"
   ]
  },
  {
   "cell_type": "code",
   "execution_count": 2,
   "id": "880be876-e7c8-409c-bdaf-169643a919f9",
   "metadata": {},
   "outputs": [
    {
     "data": {
      "text/plain": [
       "17"
      ]
     },
     "execution_count": 2,
     "metadata": {},
     "output_type": "execute_result"
    }
   ],
   "source": [
    "# This a simple arithmetic expression to mutiply then add integer\n",
    "(3*4)+5"
   ]
  },
  {
   "cell_type": "code",
   "execution_count": 3,
   "id": "c1cf3e75-4c54-41e6-9385-9dddab57a9e7",
   "metadata": {},
   "outputs": [
    {
     "data": {
      "text/plain": [
       "3.3333333333333335"
      ]
     },
     "execution_count": 3,
     "metadata": {},
     "output_type": "execute_result"
    }
   ],
   "source": [
    "# This will convert 200 minutes to hours by dividing by 60\n",
    "hours = 200 / 60\n",
    "hours\n"
   ]
  },
  {
   "cell_type": "markdown",
   "id": "a8ddda5e-cf41-4d65-aec6-6b4726e649f6",
   "metadata": {},
   "source": [
    "## Author\n",
    "kareem jamal"
   ]
  },
  {
   "cell_type": "code",
   "execution_count": null,
   "id": "2cdf8435-fb6f-4820-a8d9-a6e90c0e20c2",
   "metadata": {},
   "outputs": [],
   "source": []
  }
 ],
 "metadata": {
  "kernelspec": {
   "display_name": "Python 3 (ipykernel)",
   "language": "python",
   "name": "python3"
  },
  "language_info": {
   "codemirror_mode": {
    "name": "ipython",
    "version": 3
   },
   "file_extension": ".py",
   "mimetype": "text/x-python",
   "name": "python",
   "nbconvert_exporter": "python",
   "pygments_lexer": "ipython3",
   "version": "3.11.7"
  }
 },
 "nbformat": 4,
 "nbformat_minor": 5
}
